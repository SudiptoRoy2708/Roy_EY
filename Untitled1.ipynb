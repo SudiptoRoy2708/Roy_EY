{
 "cells": [
  {
   "cell_type": "code",
   "execution_count": 1,
   "metadata": {},
   "outputs": [
    {
     "name": "stdout",
     "output_type": "stream",
     "text": [
      "{'John': 10000, 'Mary': 12360.0, 'Krishna': 13390.0, 'Namesh': 21645.0, 'Aastha': 11770.0, 'Jason': 20790.0, 'Kavita': 21000.0, 'Ravi': 24205.0, 'Shruti': 20811.5, 'Shubham': 9360.0}\n"
     ]
    }
   ],
   "source": [
    "employee = ['John', 'Mary', 'Krishna', 'Namesh', 'Aastha', 'Jason', 'Kavita', 'Ravi', 'Shruti', 'Shubham']\n",
    "salaries = (10000, 12000, 13000, 18500, 11000, 19800, 20000, 23500, 19450, 8000)\n",
    "ratings = (2.3, 4.7, 4.3, 9.9, 8.4, 6.1, 6.1, 4.0, 8.8, 9.3)\n",
    "\n",
    "updated_salaries = {}\n",
    "\n",
    "for i in range(len(employee)):\n",
    "    rating = ratings[i]\n",
    "    current_salary = salaries[i]\n",
    "\n",
    "    if rating >= 0 and rating < 3:\n",
    "        # No salary update for ratings 0-3\n",
    "        updated_salaries[employee[i]] = current_salary\n",
    "    elif rating >= 3 and rating < 5:\n",
    "        # 3% increment for ratings 3-5\n",
    "        updated_salaries[employee[i]] = current_salary * 1.03\n",
    "    elif rating >= 5 and rating < 7:\n",
    "        # 5% increment for ratings 5-7\n",
    "        updated_salaries[employee[i]] = current_salary * 1.05\n",
    "    elif rating >= 7 and rating < 9:\n",
    "        # 7% increment for ratings 7-9\n",
    "        updated_salaries[employee[i]] = current_salary * 1.07\n",
    "    else:\n",
    "        # 7% increment and 10% bonus for ratings 9 and above\n",
    "        updated_salaries[employee[i]] = current_salary * 1.07 + (0.1 * current_salary)\n",
    "\n",
    "print(updated_salaries)\n"
   ]
  },
  {
   "cell_type": "code",
   "execution_count": null,
   "metadata": {},
   "outputs": [],
   "source": []
  }
 ],
 "metadata": {
  "kernelspec": {
   "display_name": "Python 3",
   "language": "python",
   "name": "python3"
  },
  "language_info": {
   "codemirror_mode": {
    "name": "ipython",
    "version": 3
   },
   "file_extension": ".py",
   "mimetype": "text/x-python",
   "name": "python",
   "nbconvert_exporter": "python",
   "pygments_lexer": "ipython3",
   "version": "3.7.6"
  }
 },
 "nbformat": 4,
 "nbformat_minor": 4
}
